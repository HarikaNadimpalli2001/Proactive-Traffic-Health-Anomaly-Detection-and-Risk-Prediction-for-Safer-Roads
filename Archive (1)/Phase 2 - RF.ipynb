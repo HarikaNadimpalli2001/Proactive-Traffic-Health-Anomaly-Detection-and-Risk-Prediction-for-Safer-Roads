{
 "cells": [
  {
   "cell_type": "code",
   "execution_count": 1,
   "id": "2daa10bf-5e7e-4892-a49d-ecbf84fe4750",
   "metadata": {},
   "outputs": [],
   "source": [
    "#Create a pyspark session;"
   ]
  },
  {
   "cell_type": "code",
   "execution_count": 2,
   "id": "7d15ab0e-7297-41f7-9e61-1e47d6a732a3",
   "metadata": {},
   "outputs": [],
   "source": [
    "from pyspark.sql import SparkSession"
   ]
  },
  {
   "cell_type": "code",
   "execution_count": 3,
   "id": "bcedae98-6f62-462a-8c82-8d92c08a3dcf",
   "metadata": {},
   "outputs": [
    {
     "name": "stderr",
     "output_type": "stream",
     "text": [
      "24/11/17 20:37:51 WARN Utils: Your hostname, Shwetas-Mac-mini.local resolves to a loopback address: 127.0.0.1; using 192.168.1.101 instead (on interface en1)\n",
      "24/11/17 20:37:51 WARN Utils: Set SPARK_LOCAL_IP if you need to bind to another address\n",
      "Setting default log level to \"WARN\".\n",
      "To adjust logging level use sc.setLogLevel(newLevel). For SparkR, use setLogLevel(newLevel).\n",
      "24/11/17 20:37:51 WARN NativeCodeLoader: Unable to load native-hadoop library for your platform... using builtin-java classes where applicable\n"
     ]
    }
   ],
   "source": [
    "# Initialize Spark session with specified memory and cores\n",
    "spark = SparkSession.builder.appName(\"OptimizedDataLoading\").config(\"spark.driver.memory\", \"7g\").config(\"spark.executor.memory\", \"7g\").config(\"spark.driver.cores\", \"5\").getOrCreate()"
   ]
  },
  {
   "cell_type": "code",
   "execution_count": 4,
   "id": "a111e61c-5db0-4b7f-a602-4c3e86cab909",
   "metadata": {},
   "outputs": [
    {
     "name": "stderr",
     "output_type": "stream",
     "text": [
      "                                                                                \r"
     ]
    }
   ],
   "source": [
    "# Loading the data from a CSV file into a DataFrame\n",
    "data = spark.read.csv(\"data\", header=True, inferSchema=True)"
   ]
  },
  {
   "cell_type": "code",
   "execution_count": 5,
   "id": "1368b439-9e9f-4657-abd1-878f9926d677",
   "metadata": {},
   "outputs": [
    {
     "name": "stderr",
     "output_type": "stream",
     "text": [
      "24/11/17 20:38:20 WARN SparkStringUtils: Truncated the string representation of a plan since it was too large. This behavior can be adjusted by setting 'spark.sql.debug.maxToStringFields'.\n"
     ]
    },
    {
     "data": {
      "text/plain": [
       "[Row(Start_Lat=30.265263, Start_Lng=-97.736488, Severity=0, Distance(mi)=0.07, City='Austin', State='TX', Temperature(F)=48.0, Wind_Chill(F)=45.0, Humidity(%)=58.0, Pressure(in)=29.33, Visibility(mi)=10.0, Wind_Speed(mph)=7.0, Precipitation(in)=0.0, Amenity=0, Bump=0, Crossing=1, Give_Way=0, Junction=0, No_Exit=0, Railway=0, Roundabout=0, Station=0, Stop=0, Traffic_Calming=0, Traffic_Signal=1, Turning_Loop=0, Duration_Minutes=123.22, nearest_station='000011', distance_to_station_km=1.4, traffic_volume=98, date=datetime.date(2021, 1, 1), time_of_day='Afternoon', day_of_week='Fri', is_weekend=0)]"
      ]
     },
     "execution_count": 5,
     "metadata": {},
     "output_type": "execute_result"
    }
   ],
   "source": [
    "data.head(1)"
   ]
  },
  {
   "cell_type": "code",
   "execution_count": 6,
   "id": "3d47838c-89b3-4f0c-81e8-24e3684dab73",
   "metadata": {},
   "outputs": [],
   "source": [
    "#We will only consider entries that are near to the station, to get an accurate traffic volume;"
   ]
  },
  {
   "cell_type": "code",
   "execution_count": 7,
   "id": "3c70399a-30af-43dc-8d1d-3506a3884faf",
   "metadata": {},
   "outputs": [],
   "source": [
    "# Set a threshold for distance\n",
    "threshold = 5.0"
   ]
  },
  {
   "cell_type": "code",
   "execution_count": 8,
   "id": "bb6f54e6-0e49-4f07-acd7-6f33f60b2e6c",
   "metadata": {},
   "outputs": [],
   "source": [
    "data = data.filter(data[\"distance_to_station_km\"] <= threshold)"
   ]
  },
  {
   "cell_type": "code",
   "execution_count": 9,
   "id": "a3e16072-0bbe-4ef6-8dfa-d26d1dc3c571",
   "metadata": {},
   "outputs": [],
   "source": [
    "data = data.drop('nearest_station', 'distance_to_station_km')"
   ]
  },
  {
   "cell_type": "code",
   "execution_count": 10,
   "id": "a3bd1df6-6229-4302-a012-b0937f8595d3",
   "metadata": {},
   "outputs": [],
   "source": [
    "#We will standardize some features which have different scales"
   ]
  },
  {
   "cell_type": "code",
   "execution_count": 11,
   "id": "2f781a8b-e59a-449a-bcab-b7bdd017b518",
   "metadata": {},
   "outputs": [],
   "source": [
    "#############################################################################################################################################"
   ]
  },
  {
   "cell_type": "code",
   "execution_count": 12,
   "id": "e55058ec-1f5c-4b4e-bb9e-5f66bb0b7235",
   "metadata": {},
   "outputs": [],
   "source": [
    "from pyspark.ml.feature import VectorAssembler, StandardScaler"
   ]
  },
  {
   "cell_type": "code",
   "execution_count": 13,
   "id": "76018bff-de89-4213-b0ff-135d00b6a3c5",
   "metadata": {},
   "outputs": [],
   "source": [
    "feature_columns = [\n",
    "    \"Distance(mi)\", \"Temperature(F)\", \"Wind_Chill(F)\", \"Humidity(%)\",\n",
    "    \"Pressure(in)\", \"Visibility(mi)\", \"Wind_Speed(mph)\", \"Precipitation(in)\",\n",
    "    \"Duration_Minutes\", \"traffic_volume\"]"
   ]
  },
  {
   "cell_type": "code",
   "execution_count": 14,
   "id": "46289f5f-e2ff-4663-a51c-af5884a1fd62",
   "metadata": {},
   "outputs": [],
   "source": [
    "assembler = VectorAssembler(inputCols=feature_columns, outputCol=\"features_vector\")\n",
    "data = assembler.transform(data)"
   ]
  },
  {
   "cell_type": "code",
   "execution_count": 15,
   "id": "15807924-0964-484a-b6da-8bb3b0e1619f",
   "metadata": {},
   "outputs": [
    {
     "data": {
      "text/plain": [
       "[Row(Start_Lat=30.265263, Start_Lng=-97.736488, Severity=0, Distance(mi)=0.07, City='Austin', State='TX', Temperature(F)=48.0, Wind_Chill(F)=45.0, Humidity(%)=58.0, Pressure(in)=29.33, Visibility(mi)=10.0, Wind_Speed(mph)=7.0, Precipitation(in)=0.0, Amenity=0, Bump=0, Crossing=1, Give_Way=0, Junction=0, No_Exit=0, Railway=0, Roundabout=0, Station=0, Stop=0, Traffic_Calming=0, Traffic_Signal=1, Turning_Loop=0, Duration_Minutes=123.22, traffic_volume=98, date=datetime.date(2021, 1, 1), time_of_day='Afternoon', day_of_week='Fri', is_weekend=0, features_vector=DenseVector([0.07, 48.0, 45.0, 58.0, 29.33, 10.0, 7.0, 0.0, 123.22, 98.0]))]"
      ]
     },
     "execution_count": 15,
     "metadata": {},
     "output_type": "execute_result"
    }
   ],
   "source": [
    "data.head(1)"
   ]
  },
  {
   "cell_type": "code",
   "execution_count": 16,
   "id": "0e6493f2-6c38-4547-89e5-21a3d8e35f2c",
   "metadata": {},
   "outputs": [],
   "source": [
    "#Once these features are added as vector, we can safely remove the original columns"
   ]
  },
  {
   "cell_type": "code",
   "execution_count": 17,
   "id": "6e9e5ab1-94b0-4ccf-8cff-b74c7b35958d",
   "metadata": {},
   "outputs": [],
   "source": [
    "data = data.drop(*feature_columns)"
   ]
  },
  {
   "cell_type": "code",
   "execution_count": 18,
   "id": "9760abbc-8b56-4745-86d3-6cbe436349b7",
   "metadata": {},
   "outputs": [
    {
     "data": {
      "text/plain": [
       "[Row(Start_Lat=30.265263, Start_Lng=-97.736488, Severity=0, City='Austin', State='TX', Amenity=0, Bump=0, Crossing=1, Give_Way=0, Junction=0, No_Exit=0, Railway=0, Roundabout=0, Station=0, Stop=0, Traffic_Calming=0, Traffic_Signal=1, Turning_Loop=0, date=datetime.date(2021, 1, 1), time_of_day='Afternoon', day_of_week='Fri', is_weekend=0, features_vector=DenseVector([0.07, 48.0, 45.0, 58.0, 29.33, 10.0, 7.0, 0.0, 123.22, 98.0]))]"
      ]
     },
     "execution_count": 18,
     "metadata": {},
     "output_type": "execute_result"
    }
   ],
   "source": [
    "data.head(1)"
   ]
  },
  {
   "cell_type": "code",
   "execution_count": 19,
   "id": "09adb8fc-5327-4dfc-ab45-79313beb7284",
   "metadata": {},
   "outputs": [],
   "source": [
    "#Apply StandardScaler to standardize the features"
   ]
  },
  {
   "cell_type": "code",
   "execution_count": 20,
   "id": "2ffafce9-b322-495b-951b-8c8678ca0876",
   "metadata": {},
   "outputs": [
    {
     "name": "stderr",
     "output_type": "stream",
     "text": [
      "                                                                                \r"
     ]
    }
   ],
   "source": [
    "scaler = StandardScaler(inputCol=\"features_vector\", outputCol=\"scaled_features\", withMean=True, withStd=True)\n",
    "scaler_model = scaler.fit(data)\n",
    "data = scaler_model.transform(data)"
   ]
  },
  {
   "cell_type": "code",
   "execution_count": 21,
   "id": "ae4d5f16-b441-4f5e-a5e5-fdabf8ae5585",
   "metadata": {},
   "outputs": [],
   "source": [
    "data = data.drop('features_vector')"
   ]
  },
  {
   "cell_type": "code",
   "execution_count": 22,
   "id": "17faff83-83d4-4cf9-8746-f23734f00ea9",
   "metadata": {},
   "outputs": [],
   "source": [
    "#we will add the binary features to the scaled vectors"
   ]
  },
  {
   "cell_type": "code",
   "execution_count": 23,
   "id": "dd7121f6-b834-49d8-bb29-45aa82f58ca3",
   "metadata": {},
   "outputs": [],
   "source": [
    "binary_features = [\n",
    "    \"Amenity\", \"Bump\", \"Crossing\", \"Give_Way\", \"Junction\",\n",
    "    \"No_Exit\", \"Railway\", \"Roundabout\", \"Station\", \"Stop\",\n",
    "    \"Traffic_Calming\", \"Traffic_Signal\", \"Turning_Loop\"\n",
    "]"
   ]
  },
  {
   "cell_type": "code",
   "execution_count": 24,
   "id": "94809ef1-e6da-430f-adae-4c41b0af5adb",
   "metadata": {},
   "outputs": [],
   "source": [
    "# Use VectorAssembler to combine existing features_vector with binary features\n",
    "assembler = VectorAssembler(inputCols=[\"scaled_features\"] + binary_features, outputCol=\"combined_features\")\n",
    "data = assembler.transform(data)"
   ]
  },
  {
   "cell_type": "code",
   "execution_count": 25,
   "id": "9a713a74-c76a-483a-ba5d-964378d47253",
   "metadata": {},
   "outputs": [],
   "source": [
    "data = data.drop('scaled_features')"
   ]
  },
  {
   "cell_type": "code",
   "execution_count": 26,
   "id": "ceea2924-9471-4764-a29d-8907b4852d12",
   "metadata": {},
   "outputs": [],
   "source": [
    "data = data.drop(*binary_features)"
   ]
  },
  {
   "cell_type": "code",
   "execution_count": 27,
   "id": "ad84cab0-5caf-4933-82fe-c4f07aa66dd2",
   "metadata": {},
   "outputs": [
    {
     "data": {
      "text/plain": [
       "[Row(Start_Lat=30.265263, Start_Lng=-97.736488, Severity=0, City='Austin', State='TX', date=datetime.date(2021, 1, 1), time_of_day='Afternoon', day_of_week='Fri', is_weekend=0, combined_features=SparseVector(23, {0: -0.5271, 1: -0.8308, 2: -0.8411, 3: -0.1825, 4: -0.1489, 5: 0.3481, 6: -0.0901, 7: -0.1319, 8: -0.0408, 9: -0.6464, 12: 1.0, 21: 1.0}))]"
      ]
     },
     "execution_count": 27,
     "metadata": {},
     "output_type": "execute_result"
    }
   ],
   "source": [
    "data.head(1)"
   ]
  },
  {
   "cell_type": "code",
   "execution_count": 28,
   "id": "4de705ca-9d3b-4633-b289-60cf73e0e036",
   "metadata": {},
   "outputs": [],
   "source": [
    "#So currently the order of things in the vector is;"
   ]
  },
  {
   "cell_type": "code",
   "execution_count": 29,
   "id": "765566fa-4a95-4642-8a1b-a71c265e23c0",
   "metadata": {},
   "outputs": [],
   "source": [
    "#---- \"Distance(mi)\", \"Temperature(F)\", \"Wind_Chill(F)\", \"Humidity(%)\",\n",
    "#---- \"Pressure(in)\", \"Visibility(mi)\", \"Wind_Speed(mph)\", \"Precipitation(in)\",\n",
    "#---- \"Duration_Minutes\", \"traffic_volume\"\n",
    "#---- \"Amenity\", \"Bump\", \"Crossing\", \"Give_Way\", \"Junction\",\n",
    "#---- \"No_Exit\", \"Railway\", \"Roundabout\", \"Station\", \"Stop\",\n",
    "#---- \"Traffic_Calming\", \"Traffic_Signal\", \"Turning_Loop\""
   ]
  },
  {
   "cell_type": "code",
   "execution_count": 30,
   "id": "6c63d46f-c874-42b9-ae2e-9e2e8c856a97",
   "metadata": {},
   "outputs": [],
   "source": [
    "#We will one-hot encode the \"\"time_of_day='Afternoon', day_of_week='Fri'\"\""
   ]
  },
  {
   "cell_type": "code",
   "execution_count": 31,
   "id": "c47a5908-21a3-43c3-ac92-7f9c7c585dd5",
   "metadata": {},
   "outputs": [],
   "source": [
    "from pyspark.ml.feature import StringIndexer, OneHotEncoder, VectorAssembler"
   ]
  },
  {
   "cell_type": "code",
   "execution_count": 32,
   "id": "94387a54-38ea-4bd1-8abb-b1d536399e1f",
   "metadata": {},
   "outputs": [
    {
     "name": "stderr",
     "output_type": "stream",
     "text": [
      "[Stage 9:======================================================>  (41 + 2) / 43]\r"
     ]
    },
    {
     "name": "stdout",
     "output_type": "stream",
     "text": [
      "['Afternoon', 'Morning', 'Evening', 'Night']\n"
     ]
    },
    {
     "name": "stderr",
     "output_type": "stream",
     "text": [
      "                                                                                \r"
     ]
    }
   ],
   "source": [
    "#Index the `time_of_day` column\n",
    "time_of_day_indexer = StringIndexer(inputCol=\"time_of_day\", outputCol=\"time_of_day_index\")\n",
    "\n",
    "# Fit the StringIndexer to the data\n",
    "time_of_day_indexer_model = time_of_day_indexer.fit(data)\n",
    "\n",
    "# Transform the data\n",
    "data = time_of_day_indexer_model.transform(data)\n",
    "\n",
    "# Access the labels\n",
    "print(time_of_day_indexer_model.labels)"
   ]
  },
  {
   "cell_type": "code",
   "execution_count": 33,
   "id": "3cc4140c-e076-4ed3-a73c-cc2df12aad10",
   "metadata": {},
   "outputs": [],
   "source": [
    "# Apply OneHotEncoder to the indexed column\n",
    "time_of_day_encoder = OneHotEncoder(inputCol=\"time_of_day_index\", outputCol=\"time_of_day_onehot\")\n",
    "data = time_of_day_encoder.fit(data).transform(data)"
   ]
  },
  {
   "cell_type": "code",
   "execution_count": 34,
   "id": "54c873e6-9288-441a-82af-b29225992e7d",
   "metadata": {},
   "outputs": [],
   "source": [
    "data = data.drop('time_of_day', 'time_of_day_index')"
   ]
  },
  {
   "cell_type": "code",
   "execution_count": 35,
   "id": "63fa4b1c-521e-489d-af38-770d6150fa40",
   "metadata": {},
   "outputs": [
    {
     "name": "stderr",
     "output_type": "stream",
     "text": [
      "[Stage 12:=====================================================>  (41 + 2) / 43]\r"
     ]
    },
    {
     "name": "stdout",
     "output_type": "stream",
     "text": [
      "['Fri', 'Thu', 'Wed', 'Tue', 'Mon', 'Sat', 'Sun']\n"
     ]
    },
    {
     "name": "stderr",
     "output_type": "stream",
     "text": [
      "                                                                                \r"
     ]
    }
   ],
   "source": [
    "# Index the `day_of_week` column\n",
    "day_of_week_indexer = StringIndexer(inputCol=\"day_of_week\", outputCol=\"day_of_week_index\")\n",
    "\n",
    "day_of_week_indexer_model = day_of_week_indexer.fit(data)\n",
    "\n",
    "data = day_of_week_indexer_model.transform(data)\n",
    "\n",
    "# Access the labels\n",
    "print(day_of_week_indexer_model.labels)"
   ]
  },
  {
   "cell_type": "code",
   "execution_count": 36,
   "id": "e95d6d5f-411b-4e2f-aefb-546c6ae32298",
   "metadata": {},
   "outputs": [],
   "source": [
    "# Apply OneHotEncoder to the indexed column\n",
    "day_of_week_encoder = OneHotEncoder(inputCol=\"day_of_week_index\", outputCol=\"day_of_week_onehot\")\n",
    "data = day_of_week_encoder.fit(data).transform(data)"
   ]
  },
  {
   "cell_type": "code",
   "execution_count": 37,
   "id": "c6170505-0449-4d8f-ab66-80079be831b4",
   "metadata": {},
   "outputs": [],
   "source": [
    "data = data.drop('day_of_week_index', 'day_of_week', 'is_weekend')"
   ]
  },
  {
   "cell_type": "code",
   "execution_count": 38,
   "id": "d88c26bd-1f73-4419-83b5-3a3c14ef5275",
   "metadata": {},
   "outputs": [
    {
     "data": {
      "text/plain": [
       "[Row(Start_Lat=30.265263, Start_Lng=-97.736488, Severity=0, City='Austin', State='TX', date=datetime.date(2021, 1, 1), combined_features=SparseVector(23, {0: -0.5271, 1: -0.8308, 2: -0.8411, 3: -0.1825, 4: -0.1489, 5: 0.3481, 6: -0.0901, 7: -0.1319, 8: -0.0408, 9: -0.6464, 12: 1.0, 21: 1.0}), time_of_day_onehot=SparseVector(3, {0: 1.0}), day_of_week_onehot=SparseVector(6, {0: 1.0}))]"
      ]
     },
     "execution_count": 38,
     "metadata": {},
     "output_type": "execute_result"
    }
   ],
   "source": [
    "data.head(1)"
   ]
  },
  {
   "cell_type": "code",
   "execution_count": 39,
   "id": "a2ed92c9-6acd-4082-80dd-448bd8f98994",
   "metadata": {},
   "outputs": [],
   "source": [
    "# Combine all features into a single vector\n",
    "assembler = VectorAssembler(\n",
    "    inputCols=[\"combined_features\", \"time_of_day_onehot\", \"day_of_week_onehot\"],\n",
    "    outputCol=\"final_features\"\n",
    ")\n",
    "data = assembler.transform(data)"
   ]
  },
  {
   "cell_type": "code",
   "execution_count": 40,
   "id": "7f6c8984-6804-4a14-bae7-985e51a28ddd",
   "metadata": {},
   "outputs": [],
   "source": [
    "data = data.drop('combined_features', 'time_of_day_onehot', 'day_of_week_onehot')"
   ]
  },
  {
   "cell_type": "code",
   "execution_count": 41,
   "id": "0c50e302-991f-4bf3-af74-7284fd5a2e06",
   "metadata": {},
   "outputs": [
    {
     "data": {
      "text/plain": [
       "[Row(Start_Lat=30.265263, Start_Lng=-97.736488, Severity=0, City='Austin', State='TX', date=datetime.date(2021, 1, 1), final_features=SparseVector(32, {0: -0.5271, 1: -0.8308, 2: -0.8411, 3: -0.1825, 4: -0.1489, 5: 0.3481, 6: -0.0901, 7: -0.1319, 8: -0.0408, 9: -0.6464, 12: 1.0, 21: 1.0, 23: 1.0, 26: 1.0}))]"
      ]
     },
     "execution_count": 41,
     "metadata": {},
     "output_type": "execute_result"
    }
   ],
   "source": [
    "data.head(1)"
   ]
  },
  {
   "cell_type": "code",
   "execution_count": 42,
   "id": "8a24839a-8f5e-4a0e-829d-d9ed37daabb0",
   "metadata": {},
   "outputs": [],
   "source": [
    "#The columns will be like"
   ]
  },
  {
   "cell_type": "code",
   "execution_count": 43,
   "id": "06dfc9e9-e74e-4b3f-b7c3-a29e8f33ea20",
   "metadata": {},
   "outputs": [],
   "source": [
    "#---- \"Distance(mi)\", \"Temperature(F)\", \"Wind_Chill(F)\", \"Humidity(%)\",\n",
    "#---- \"Pressure(in)\", \"Visibility(mi)\", \"Wind_Speed(mph)\", \"Precipitation(in)\",\n",
    "#---- \"Duration_Minutes\", \"traffic_volume\"\n",
    "#---- \"Amenity\", \"Bump\", \"Crossing\", \"Give_Way\", \"Junction\",\n",
    "#---- \"No_Exit\", \"Railway\", \"Roundabout\", \"Station\", \"Stop\",\n",
    "#---- \"Traffic_Calming\", \"Traffic_Signal\", \"Turning_Loop\"\n",
    "#---- 'Afternoon', 'Morning', 'Evening', 'Night'\n",
    "#---- 'Fri', 'Thu', 'Wed', 'Tue', 'Mon', 'Sat', 'Sun'"
   ]
  },
  {
   "cell_type": "code",
   "execution_count": 44,
   "id": "4e6d4996-58b6-4b6b-a944-7c236861cef0",
   "metadata": {},
   "outputs": [],
   "source": [
    "###########################################################################################################################################"
   ]
  },
  {
   "cell_type": "code",
   "execution_count": 45,
   "id": "cb6934ff-3f8b-4c79-aa88-c07b7ef9e9dd",
   "metadata": {},
   "outputs": [],
   "source": [
    "#The classes are highly imbalanced, in pyspark random forest there is no class weight attribute for this, thereby undersampling"
   ]
  },
  {
   "cell_type": "code",
   "execution_count": 46,
   "id": "2f6e9493-de74-48c3-a905-b69b39938d09",
   "metadata": {},
   "outputs": [],
   "source": [
    "# Separate the majority and minority classes\n",
    "majority_class = data.filter(data[\"Severity\"] == 0)\n",
    "minority_class = data.filter(data[\"Severity\"] == 1)"
   ]
  },
  {
   "cell_type": "code",
   "execution_count": 47,
   "id": "db776405-19d2-451e-b062-c2f681814ab7",
   "metadata": {},
   "outputs": [
    {
     "name": "stderr",
     "output_type": "stream",
     "text": [
      "Java HotSpot(TM) 64-Bit Server VM warning: CodeCache is full. Compiler has been disabled.\n",
      "Java HotSpot(TM) 64-Bit Server VM warning: Try increasing the code cache size using -XX:ReservedCodeCacheSize=\n"
     ]
    },
    {
     "name": "stdout",
     "output_type": "stream",
     "text": [
      "CodeCache: size=131072Kb used=40094Kb max_used=40094Kb free=90977Kb\n",
      " bounds [0x0000000105d3c000, 0x00000001084ac000, 0x000000010dd3c000]\n",
      " total_blobs=14909 nmethods=13915 adapters=905\n",
      " compilation: disabled (not enough contiguous free space left)\n"
     ]
    },
    {
     "name": "stderr",
     "output_type": "stream",
     "text": [
      "                                                                                \r"
     ]
    }
   ],
   "source": [
    "# Perform undersampling on the majority class\n",
    "# Adjust the fraction to match the size of the minority class\n",
    "fraction = minority_class.count() / float(majority_class.count())\n",
    "majority_sampled = majority_class.sample(withReplacement=False, fraction=fraction, seed=7)"
   ]
  },
  {
   "cell_type": "code",
   "execution_count": 48,
   "id": "6f68f311-2931-4a83-bd2b-969c4c687fa6",
   "metadata": {},
   "outputs": [
    {
     "name": "stderr",
     "output_type": "stream",
     "text": [
      "[Stage 23:=====================================================>  (82 + 4) / 86]\r"
     ]
    },
    {
     "name": "stdout",
     "output_type": "stream",
     "text": [
      "+--------+------+\n",
      "|Severity| count|\n",
      "+--------+------+\n",
      "|       0|172294|\n",
      "|       1|172480|\n",
      "+--------+------+\n",
      "\n"
     ]
    },
    {
     "name": "stderr",
     "output_type": "stream",
     "text": [
      "                                                                                \r"
     ]
    }
   ],
   "source": [
    "# Combine the sampled majority class with the minority class\n",
    "data = majority_sampled.union(minority_class)\n",
    "\n",
    "# Check the class distribution after undersampling\n",
    "data.groupBy(\"Severity\").count().show()"
   ]
  },
  {
   "cell_type": "code",
   "execution_count": 49,
   "id": "cb6513b4-77f8-4d9d-a86e-d689464cfd9a",
   "metadata": {},
   "outputs": [],
   "source": [
    "###########################################################################################################################################"
   ]
  },
  {
   "cell_type": "code",
   "execution_count": 50,
   "id": "a5831115-942e-485a-a57b-046802cc515f",
   "metadata": {},
   "outputs": [],
   "source": [
    "# Split the balanced data into training and testing sets;\n",
    "(trainingData, testData) = data.randomSplit([0.9, 0.1], seed=5)"
   ]
  },
  {
   "cell_type": "code",
   "execution_count": 51,
   "id": "58092c2a-ab64-45b1-ad17-80ec52ee0f7e",
   "metadata": {},
   "outputs": [
    {
     "name": "stderr",
     "output_type": "stream",
     "text": [
      "                                                                                \r"
     ]
    },
    {
     "name": "stdout",
     "output_type": "stream",
     "text": [
      "+--------+------+\n",
      "|Severity| count|\n",
      "+--------+------+\n",
      "|       0|155091|\n",
      "|       1|155088|\n",
      "+--------+------+\n",
      "\n"
     ]
    },
    {
     "name": "stderr",
     "output_type": "stream",
     "text": [
      "[Stage 29:======================================================> (83 + 3) / 86]\r"
     ]
    },
    {
     "name": "stdout",
     "output_type": "stream",
     "text": [
      "+--------+-----+\n",
      "|Severity|count|\n",
      "+--------+-----+\n",
      "|       0|17203|\n",
      "|       1|17392|\n",
      "+--------+-----+\n",
      "\n"
     ]
    },
    {
     "name": "stderr",
     "output_type": "stream",
     "text": [
      "                                                                                \r"
     ]
    }
   ],
   "source": [
    "# Check class distribution in the training data\n",
    "trainingData.groupBy(\"Severity\").count().show()\n",
    "\n",
    "# Check class distribution in the testing data\n",
    "testData.groupBy(\"Severity\").count().show()"
   ]
  },
  {
   "cell_type": "code",
   "execution_count": 52,
   "id": "c65a446c-d09b-4217-bfd5-36ec1c899ef2",
   "metadata": {},
   "outputs": [],
   "source": [
    "##########################################################################################################################################"
   ]
  },
  {
   "cell_type": "code",
   "execution_count": 53,
   "id": "48c50767-c476-45d3-9dad-cd8b9e8ea1cc",
   "metadata": {},
   "outputs": [],
   "source": [
    "# Initialize and train a Random Forest model"
   ]
  },
  {
   "cell_type": "code",
   "execution_count": 54,
   "id": "404bea45-5050-49ee-92bf-c17544bec5a9",
   "metadata": {},
   "outputs": [],
   "source": [
    "from pyspark.ml.classification import RandomForestClassifier\n",
    "from pyspark.ml.evaluation import MulticlassClassificationEvaluator"
   ]
  },
  {
   "cell_type": "code",
   "execution_count": 55,
   "id": "3f692ef9-e704-4884-873b-edb282339102",
   "metadata": {},
   "outputs": [
    {
     "name": "stderr",
     "output_type": "stream",
     "text": [
      "24/11/17 20:46:09 WARN DAGScheduler: Broadcasting large task binary with size 1102.0 KiB\n",
      "24/11/17 20:46:52 WARN DAGScheduler: Broadcasting large task binary with size 2.2 MiB\n",
      "24/11/17 20:48:07 WARN DAGScheduler: Broadcasting large task binary with size 4.5 MiB\n",
      "24/11/17 20:49:52 WARN DAGScheduler: Broadcasting large task binary with size 1416.3 KiB\n",
      "24/11/17 20:50:01 WARN DAGScheduler: Broadcasting large task binary with size 9.0 MiB\n",
      "24/11/17 20:52:45 WARN DAGScheduler: Broadcasting large task binary with size 2.7 MiB\n",
      "                                                                                \r"
     ]
    }
   ],
   "source": [
    "rf = RandomForestClassifier(featuresCol=\"final_features\", labelCol=\"Severity\", numTrees=2000)\n",
    "model = rf.fit(trainingData)"
   ]
  },
  {
   "cell_type": "code",
   "execution_count": 56,
   "id": "d8042282-2fd1-49ca-a69d-4d848a72dca9",
   "metadata": {},
   "outputs": [
    {
     "name": "stderr",
     "output_type": "stream",
     "text": [
      "24/11/17 20:53:01 WARN DAGScheduler: Broadcasting large task binary with size 9.7 MiB\n",
      "[Stage 49:======================================================> (83 + 3) / 86]\r"
     ]
    },
    {
     "name": "stdout",
     "output_type": "stream",
     "text": [
      "Test Accuracy: 0.6927301633183987\n"
     ]
    },
    {
     "name": "stderr",
     "output_type": "stream",
     "text": [
      "                                                                                \r"
     ]
    }
   ],
   "source": [
    "# Make predictions and evaluate the model\n",
    "predictions = model.transform(testData)\n",
    "\n",
    "evaluator = MulticlassClassificationEvaluator(labelCol=\"Severity\", predictionCol=\"prediction\", metricName=\"accuracy\")\n",
    "accuracy = evaluator.evaluate(predictions)\n",
    "print(\"Test Accuracy:\", accuracy)"
   ]
  },
  {
   "cell_type": "code",
   "execution_count": 57,
   "id": "149f92c3-5461-4785-be40-ac4751179b32",
   "metadata": {},
   "outputs": [
    {
     "name": "stderr",
     "output_type": "stream",
     "text": [
      "24/11/17 20:56:18 WARN DAGScheduler: Broadcasting large task binary with size 9.7 MiB\n",
      "24/11/17 20:57:19 WARN DAGScheduler: Broadcasting large task binary with size 9.7 MiB\n",
      "24/11/17 20:58:19 WARN DAGScheduler: Broadcasting large task binary with size 9.7 MiB\n",
      "[Stage 55:======================================================> (84 + 2) / 86]\r"
     ]
    },
    {
     "name": "stdout",
     "output_type": "stream",
     "text": [
      "Precision: 0.6942584422901629\n",
      "Recall: 0.6927301633183987\n",
      "F1-Score: 0.6919845282927657\n"
     ]
    },
    {
     "name": "stderr",
     "output_type": "stream",
     "text": [
      "                                                                                \r"
     ]
    }
   ],
   "source": [
    "# Precision, Recall, and F1-Score\n",
    "evaluator_precision = MulticlassClassificationEvaluator(labelCol=\"Severity\", predictionCol=\"prediction\", metricName=\"weightedPrecision\")\n",
    "evaluator_recall = MulticlassClassificationEvaluator(labelCol=\"Severity\", predictionCol=\"prediction\", metricName=\"weightedRecall\")\n",
    "evaluator_f1 = MulticlassClassificationEvaluator(labelCol=\"Severity\", predictionCol=\"prediction\", metricName=\"f1\")\n",
    "\n",
    "precision = evaluator_precision.evaluate(predictions)\n",
    "recall = evaluator_recall.evaluate(predictions)\n",
    "f1_score = evaluator_f1.evaluate(predictions)\n",
    "\n",
    "print(\"Precision:\", precision)\n",
    "print(\"Recall:\", recall)\n",
    "print(\"F1-Score:\", f1_score)"
   ]
  },
  {
   "cell_type": "code",
   "execution_count": 58,
   "id": "55df3385-c1b6-458e-9506-ab7409f09fc2",
   "metadata": {},
   "outputs": [
    {
     "name": "stderr",
     "output_type": "stream",
     "text": [
      "24/11/17 20:59:19 WARN DAGScheduler: Broadcasting large task binary with size 9.7 MiB\n",
      "[Stage 57:=======================================================>(85 + 1) / 86]\r"
     ]
    },
    {
     "name": "stdout",
     "output_type": "stream",
     "text": [
      "+--------+----------+-----+\n",
      "|Severity|prediction|count|\n",
      "+--------+----------+-----+\n",
      "|       0|       0.0|11083|\n",
      "|       0|       1.0| 6120|\n",
      "|       1|       0.0| 4510|\n",
      "|       1|       1.0|12882|\n",
      "+--------+----------+-----+\n",
      "\n"
     ]
    },
    {
     "name": "stderr",
     "output_type": "stream",
     "text": [
      "24/11/17 21:00:19 WARN DAGScheduler: Broadcasting large task binary with size 9.6 MiB\n",
      "                                                                                \r"
     ]
    }
   ],
   "source": [
    "# Generate a confusion matrix using the predictions and the actual labels\n",
    "predictions.groupBy(\"Severity\", \"prediction\").count().show()"
   ]
  },
  {
   "cell_type": "markdown",
   "id": "ecc7fb8b-2da5-4282-828d-36b535554caa",
   "metadata": {},
   "source": [
    "True Negatives (TN): 11,096\n",
    "The model correctly predicted Severity = 0 when the actual severity was 0.\n",
    "\n",
    "False Positives (FP): 6,107\n",
    "The model incorrectly predicted Severity = 1 when the actual severity was 0. This represents instances where the model overestimated the severity.\n",
    "\n",
    "False Negatives (FN): 4,532\n",
    "The model incorrectly predicted Severity = 0 when the actual severity was 1. This represents instances where the model underestimated the severity.\n",
    "\n",
    "True Positives (TP): 12,860\n",
    "The model correctly predicted Severity = 1 when the actual severity was 1."
   ]
  },
  {
   "cell_type": "code",
   "execution_count": 60,
   "id": "cd7d12ed-93ec-4aa9-a88b-3dea36c095fd",
   "metadata": {},
   "outputs": [],
   "source": [
    "# The order of features in `final_features`:\n",
    "\n",
    "# 1. Scaled Numerical Features (10 features, in this order):\n",
    "#    1. \"Distance(mi)\"\n",
    "#    2. \"Temperature(F)\"\n",
    "#    3. \"Wind_Chill(F)\"\n",
    "#    4. \"Humidity(%)\"\n",
    "#    5. \"Pressure(in)\"\n",
    "#    6. \"Visibility(mi)\"\n",
    "#    7. \"Wind_Speed(mph)\"\n",
    "#    8. \"Precipitation(in)\"\n",
    "#    9. \"Duration_Minutes\"\n",
    "#    10. \"traffic_volume\"\n",
    "\n",
    "# 2. Binary Features (13 features, in this order):\n",
    "#    11. \"Amenity\"\n",
    "#    12. \"Bump\"\n",
    "#    13. \"Crossing\"\n",
    "#    14. \"Give_Way\"\n",
    "#    15. \"Junction\"\n",
    "#    16. \"No_Exit\"\n",
    "#    17. \"Railway\"\n",
    "#    18. \"Roundabout\"\n",
    "#    19. \"Station\"\n",
    "#    20. \"Stop\"\n",
    "#    21. \"Traffic_Calming\"\n",
    "#    22. \"Traffic_Signal\"\n",
    "#    23. \"Turning_Loop\"\n",
    "\n",
    "# 3. One-Hot Encoded Features:\n",
    "#    - time_of_day_onehot (number of features = number of unique categories in `time_of_day` minus 1)\n",
    "#    - day_of_week_onehot (number of features = number of unique categories in `day_of_week` minus 1)\n",
    "\n",
    "# Example:\n",
    "# If `time_of_day` has 4 unique categories, then time_of_day_onehot will have 3 features.\n",
    "# If `day_of_week` has 7 unique categories, then day_of_week_onehot will have 6 features.\n",
    "\n",
    "# Total number of features in `final_features`:\n",
    "# 10 (scaled numerical features) + 13 (binary features) + 3 (time_of_day_onehot) + 6 (day_of_week_onehot) = 32 features"
   ]
  },
  {
   "cell_type": "code",
   "execution_count": 61,
   "id": "5f673283-25b4-4003-9115-f24e8e25ee13",
   "metadata": {},
   "outputs": [
    {
     "name": "stdout",
     "output_type": "stream",
     "text": [
      "Feature Importances: (32,[0,1,2,3,4,5,6,7,8,9,10,11,12,13,14,15,16,18,19,20,21,23,24,25,26,27,28,29,30,31],[0.16356948252170928,0.07032898235626303,0.05860297711694641,0.022249915459421305,0.17149024587952263,0.0010908542462190174,0.004427756210794965,0.0004480221502391222,0.37975030328792186,0.014440496935351809,0.00020218991813986928,2.1139965625822512e-05,0.0018246128905238875,0.00021685020336219033,0.012741860290094923,8.77642025053312e-05,0.00013194967485078153,0.004862866318651884,0.0005861415951468119,1.898358946969861e-05,0.0019136155391614618,0.06842075734496172,0.007144484353726788,0.013792365736247042,0.000505490937766686,0.0003243639620001244,8.630204659323826e-05,0.0002757811571415296,9.176314657862345e-05,0.00035168096306207756])\n"
     ]
    }
   ],
   "source": [
    "# Access the trained Random Forest model\n",
    "print(\"Feature Importances:\", model.featureImportances)"
   ]
  },
  {
   "cell_type": "markdown",
   "id": "c646e3a7-69d4-45da-9ee8-f5dde0f5cdbc",
   "metadata": {},
   "source": [
    "32: The total number of features.\n",
    "\n",
    "[indices]: The indices of the features.\n",
    "\n",
    "[importances]: The importance scores corresponding to each feature index."
   ]
  },
  {
   "cell_type": "code",
   "execution_count": 63,
   "id": "4f6cca45-0152-41fe-a7de-d7b6fe69b5e9",
   "metadata": {},
   "outputs": [],
   "source": [
    "# # Feature Names in the Order of `final_features`\n",
    "# feature_names = [\n",
    "#     \"Distance(mi)\",                # 0\n",
    "#     \"Temperature(F)\",              # 1\n",
    "#     \"Wind_Chill(F)\",               # 2\n",
    "#     \"Humidity(%)\",                 # 3\n",
    "#     \"Pressure(in)\",                # 4\n",
    "#     \"Visibility(mi)\",              # 5\n",
    "#     \"Wind_Speed(mph)\",             # 6\n",
    "#     \"Precipitation(in)\",           # 7\n",
    "#     \"Duration_Minutes\",            # 8\n",
    "#     \"traffic_volume\",              # 9\n",
    "#     \"Amenity\",                     # 10\n",
    "#     \"Bump\",                        # 11\n",
    "#     \"Crossing\",                    # 12\n",
    "#     \"Give_Way\",                    # 13\n",
    "#     \"Junction\",                    # 14\n",
    "#     \"No_Exit\",                     # 15\n",
    "#     \"Railway\",                     # 16\n",
    "#     \"Roundabout\",                  # 17\n",
    "#     \"Station\",                     # 18\n",
    "#     \"Stop\",                        # 19\n",
    "#     \"Traffic_Calming\",             # 20\n",
    "#     \"Traffic_Signal\",              # 21\n",
    "#     \"Turning_Loop\",                # 22\n",
    "#     \"Afternoon\",                   # 23 (One-Hot Encoded)\n",
    "#     \"Morning\",                     # 24 (One-Hot Encoded)\n",
    "#     \"Evening\",                     # 25 (One-Hot Encoded)\n",
    "#     # \"Night\" is not included as it is the reference category\n",
    "#     \"Fri\",                         # 26 (One-Hot Encoded)\n",
    "#     \"Thu\",                         # 27 (One-Hot Encoded)\n",
    "#     \"Wed\",                         # 28 (One-Hot Encoded)\n",
    "#     \"Tue\",                         # 29 (One-Hot Encoded)\n",
    "#     \"Mon\",                         # 30 (One-Hot Encoded)\n",
    "#     \"Sat\"                          # 31 (One-Hot Encoded)\n",
    "#     # \"Sun\" is not included as it is the reference category\n",
    "# ]"
   ]
  },
  {
   "cell_type": "code",
   "execution_count": 64,
   "id": "a3ca3ef1-8e54-465f-a6ef-47d84b267f9a",
   "metadata": {},
   "outputs": [],
   "source": [
    "# # Feature Importances from the Model\n",
    "# importances = [\n",
    "#     0.17394707113931535,  # Distance(mi)\n",
    "#     0.06897441105651222,  # Temperature(F)\n",
    "#     0.06055660873673941,  # Wind_Chill(F)\n",
    "#     0.022732523660063102, # Humidity(%)\n",
    "#     0.16852914570339161,  # Pressure(in)\n",
    "#     0.0011179775026315254,# Visibility(mi)\n",
    "#     0.005057684382629142, # Wind_Speed(mph)\n",
    "#     0.0005198216945008352,# Precipitation(in)\n",
    "#     0.3659642468730161,   # Duration_Minutes\n",
    "#     0.013483433139066718, # traffic_volume\n",
    "#     0.0002104069482080534,# Amenity\n",
    "#     2.246449146095659e-05,# Bump\n",
    "#     0.0019763951466569315,# Crossing\n",
    "#     0.000245813917017759, # Give_Way\n",
    "#     0.014700306917373689, # Junction\n",
    "#     9.06908388498976e-05, # No_Exit\n",
    "#     0.00011299998075738631,# Railway\n",
    "#     0.0,                  # Roundabout (not important)\n",
    "#     0.004304892804743067, # Station\n",
    "#     0.0006019762745434373,# Stop\n",
    "#     3.140434662607242e-05,# Traffic_Calming\n",
    "#     0.002190662073182403, # Traffic_Signal\n",
    "#     0.0,                  # Turning_Loop (not important)\n",
    "#     0.07115104416059445,  # Afternoon\n",
    "#     0.007352640662777778, # Morning\n",
    "#     0.014368749450850517, # Evening\n",
    "#     # \"Night\" is removed as it is the reference category\n",
    "#     0.00034579810772437654,# Fri\n",
    "#     7.237659882916528e-05,# Thu\n",
    "#     0.0002579104712474635,# Wed\n",
    "#     8.986670807331296e-05,# Tue\n",
    "#     0.00045023922322031,  # Mon\n",
    "#     # \"Sun\" is removed as it is the reference category\n",
    "# ]"
   ]
  },
  {
   "cell_type": "markdown",
   "id": "c03b17f3-decb-428d-812c-d7de4329eecb",
   "metadata": {},
   "source": [
    "**Most Important Features:**\n",
    "\n",
    "**Duration_Minutes (0.366): This feature has the highest importance score, meaning that the duration of an event (e.g., the duration of an accident or traffic delay) is the most influential factor in predicting accident severity. This suggests that longer durations are strongly associated with more severe outcomes.**\n",
    "\n",
    "**Distance(mi) (0.174): The distance of the event also has a significant impact, indicating that the distance covered during an incident is a crucial factor in determining severity.**\n",
    "\n",
    "**Pressure(in) (0.169): Atmospheric pressure is another critical feature, likely affecting driving conditions or accident likelihood.**"
   ]
  },
  {
   "cell_type": "code",
   "execution_count": 66,
   "id": "f2b6f8e2-60ff-4fea-8c4f-eeacd39dd6c4",
   "metadata": {},
   "outputs": [],
   "source": [
    "########################################################################################################################################"
   ]
  },
  {
   "cell_type": "markdown",
   "id": "207fa215-fb45-40a1-9431-fd7c3fd656b8",
   "metadata": {},
   "source": [
    "**Moderately Important Features:**\n",
    "\n",
    "**Afternoon (0.071): The time of day, particularly the afternoon, plays a moderate role in predicting accident severity. This may reflect higher traffic volumes or changing road conditions during this period.**\n",
    "\n",
    "**Temperature(F) (0.069) and Wind_Chill(F) (0.061): Weather conditions, including temperature and wind chill, are moderately important and influence road safety.**\n",
    "\n",
    "**Junction (0.015): The presence of a junction is another moderately influential feature, likely because intersections are common sites for accidents.**\n",
    "\n",
    "**Evening (0.014): The evening time period has a moderate impact, possibly due to reduced visibility or higher traffic density.**"
   ]
  },
  {
   "cell_type": "code",
   "execution_count": 68,
   "id": "dedd94e1-b43e-46b8-a1dc-bbe160d0ccba",
   "metadata": {},
   "outputs": [],
   "source": [
    "##########################################################################################################################################"
   ]
  },
  {
   "cell_type": "markdown",
   "id": "165d4c8d-7a44-441e-8562-6e7409c603d7",
   "metadata": {},
   "source": [
    "**Less Important Features:**\n",
    "\n",
    "**traffic_volume (0.013): Surprisingly, traffic volume has a lower importance score than some other features, indicating that while it affects accident severity, it is not as significant as other factors.**\n",
    "\n",
    "**Station (0.004), Traffic_Signal (0.002), and Crossing (0.002): These features have relatively low importance scores, suggesting they contribute less to the model's predictions.**\n",
    "\n",
    "**Morning (0.007): The morning time period has a minor influence compared to the afternoon and evening.**"
   ]
  },
  {
   "cell_type": "code",
   "execution_count": 70,
   "id": "8e609e72-40ee-4879-8132-c28fb47a69c1",
   "metadata": {},
   "outputs": [],
   "source": [
    "#########################################################################################################################################"
   ]
  },
  {
   "cell_type": "markdown",
   "id": "deff2466-657f-4b18-a746-6f3e594ccb6b",
   "metadata": {},
   "source": [
    "**Least Important Features:**\n",
    "\n",
    "**Features like Bump (0.00002), Traffic_Calming (0.00003), and Thu (0.00007) have very low importance scores, indicating minimal impact on the model's predictions.**\n",
    "\n",
    "**Features with an importance of 0.0 (e.g., Roundabout and Turning_Loop) are not contributing at all and could be candidates for removal in future models.**"
   ]
  },
  {
   "cell_type": "code",
   "execution_count": 72,
   "id": "1f6be346-b9d5-4518-a0bb-017a14822cc9",
   "metadata": {},
   "outputs": [],
   "source": [
    "#Given the traffic volume and other parameters, will the model be able to predict correctly the severity of the accident?"
   ]
  },
  {
   "cell_type": "code",
   "execution_count": 73,
   "id": "4a2f1606-23c2-452f-ae6d-abe9ebced528",
   "metadata": {},
   "outputs": [],
   "source": [
    "#I will say 'YES' for about 70%"
   ]
  },
  {
   "cell_type": "code",
   "execution_count": 74,
   "id": "4205d4ff-d1a1-4788-98f4-9499829d7b0c",
   "metadata": {},
   "outputs": [],
   "source": [
    "#I believe with more training we would have been able to achieve higher classification metrics"
   ]
  },
  {
   "cell_type": "code",
   "execution_count": 75,
   "id": "55894f0d-e1fd-474e-8c42-9f75bbc14060",
   "metadata": {},
   "outputs": [],
   "source": [
    "import json"
   ]
  },
  {
   "cell_type": "code",
   "execution_count": 76,
   "id": "44e61a70-cded-41f2-81ba-e137c7a51be4",
   "metadata": {},
   "outputs": [],
   "source": [
    "# Feature names\n",
    "feature_names = [\n",
    "    \"Distance(mi)\", \"Temperature(F)\", \"Wind_Chill(F)\", \"Humidity(%)\", \"Pressure(in)\",\n",
    "    \"Visibility(mi)\", \"Wind_Speed(mph)\", \"Precipitation(in)\", \"Duration_Minutes\",\n",
    "    \"traffic_volume\", \"Amenity\", \"Bump\", \"Crossing\", \"Give_Way\", \"Junction\",\n",
    "    \"No_Exit\", \"Railway\", \"Roundabout\", \"Station\", \"Stop\", \"Traffic_Calming\",\n",
    "    \"Traffic_Signal\", \"Turning_Loop\", \"Afternoon\", \"Morning\", \"Evening\", \"Fri\",\n",
    "    \"Thu\", \"Wed\", \"Tue\", \"Mon\", \"Sat\"\n",
    "]"
   ]
  },
  {
   "cell_type": "code",
   "execution_count": 77,
   "id": "3c0416e3-3d95-41c4-8a0b-8c76832b267c",
   "metadata": {},
   "outputs": [],
   "source": [
    "# Save to a JSON file\n",
    "with open('RANDOM FOREST/feature_names.json', 'w') as file:\n",
    "    json.dump(feature_names, file)"
   ]
  },
  {
   "cell_type": "code",
   "execution_count": 78,
   "id": "bc39dc10-916b-4c3c-bd7c-758254e1107c",
   "metadata": {},
   "outputs": [],
   "source": [
    "#Saving the model;"
   ]
  },
  {
   "cell_type": "code",
   "execution_count": 99,
   "id": "8dd7993a-34de-448a-9668-555f00a68775",
   "metadata": {},
   "outputs": [
    {
     "name": "stderr",
     "output_type": "stream",
     "text": [
      "24/11/17 21:05:48 WARN TaskSetManager: Stage 64 contains a task of very large size (1246 KiB). The maximum recommended task size is 1000 KiB.\n"
     ]
    }
   ],
   "source": [
    "# For PySpark models, use the built-in save method\n",
    "model.save(\"RANDOM FOREST/rf_model\")"
   ]
  },
  {
   "cell_type": "code",
   "execution_count": null,
   "id": "ddae86bc-b273-4da5-8036-009e37057482",
   "metadata": {},
   "outputs": [],
   "source": []
  }
 ],
 "metadata": {
  "kernelspec": {
   "display_name": "Python 3 (ipykernel)",
   "language": "python",
   "name": "python3"
  },
  "language_info": {
   "codemirror_mode": {
    "name": "ipython",
    "version": 3
   },
   "file_extension": ".py",
   "mimetype": "text/x-python",
   "name": "python",
   "nbconvert_exporter": "python",
   "pygments_lexer": "ipython3",
   "version": "3.12.7"
  }
 },
 "nbformat": 4,
 "nbformat_minor": 5
}
